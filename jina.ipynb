{
  "nbformat": 4,
  "nbformat_minor": 0,
  "metadata": {
    "colab": {
      "name": "Untitled0.ipynb",
      "provenance": [],
      "collapsed_sections": [],
      "authorship_tag": "ABX9TyMQZgDnFlPGC5tkiiif9PHU",
      "include_colab_link": true
    },
    "kernelspec": {
      "name": "python3",
      "display_name": "Python 3"
    },
    "language_info": {
      "name": "python"
    },
    "widgets": {
      "application/vnd.jupyter.widget-state+json": {
        "07653011e43849b6b8c0cf67e560d3f1": {
          "model_module": "@jupyter-widgets/output",
          "model_name": "OutputModel",
          "model_module_version": "1.0.0",
          "state": {
            "_dom_classes": [],
            "_model_module": "@jupyter-widgets/output",
            "_model_module_version": "1.0.0",
            "_model_name": "OutputModel",
            "_view_count": null,
            "_view_module": "@jupyter-widgets/output",
            "_view_module_version": "1.0.0",
            "_view_name": "OutputView",
            "layout": "IPY_MODEL_a29978e298004e0db589dd1fc480fb22",
            "msg_id": "",
            "outputs": [
              {
                "output_type": "display_data",
                "data": {
                  "text/plain": "\u001b[32m⠙\u001b[0m Waiting \u001b[1mexecutor1\u001b[0m \u001b[38;2;249;38;114m━━━━━━━━━━━━━━━━━━━━━━━━━━━━━━\u001b[0m\u001b[38;5;237m╺\u001b[0m\u001b[38;5;237m━━━━━━━━━\u001b[0m \u001b[32m3/4\u001b[0m \u001b[33m0:00:03\u001b[0m\n",
                  "text/html": "<pre style=\"white-space:pre;overflow-x:auto;line-height:normal;font-family:Menlo,'DejaVu Sans Mono',consolas,'Courier New',monospace\"><span style=\"color: #008000; text-decoration-color: #008000\">⠙</span> Waiting <span style=\"font-weight: bold\">executor1</span> <span style=\"color: #f92672; text-decoration-color: #f92672\">━━━━━━━━━━━━━━━━━━━━━━━━━━━━━━</span><span style=\"color: #3a3a3a; text-decoration-color: #3a3a3a\">╺━━━━━━━━━</span> <span style=\"color: #008000; text-decoration-color: #008000\">3/4</span> <span style=\"color: #808000; text-decoration-color: #808000\">0:00:03</span>\n</pre>\n"
                },
                "metadata": {}
              }
            ]
          }
        },
        "a29978e298004e0db589dd1fc480fb22": {
          "model_module": "@jupyter-widgets/base",
          "model_name": "LayoutModel",
          "model_module_version": "1.2.0",
          "state": {
            "_model_module": "@jupyter-widgets/base",
            "_model_module_version": "1.2.0",
            "_model_name": "LayoutModel",
            "_view_count": null,
            "_view_module": "@jupyter-widgets/base",
            "_view_module_version": "1.2.0",
            "_view_name": "LayoutView",
            "align_content": null,
            "align_items": null,
            "align_self": null,
            "border": null,
            "bottom": null,
            "display": null,
            "flex": null,
            "flex_flow": null,
            "grid_area": null,
            "grid_auto_columns": null,
            "grid_auto_flow": null,
            "grid_auto_rows": null,
            "grid_column": null,
            "grid_gap": null,
            "grid_row": null,
            "grid_template_areas": null,
            "grid_template_columns": null,
            "grid_template_rows": null,
            "height": null,
            "justify_content": null,
            "justify_items": null,
            "left": null,
            "margin": null,
            "max_height": null,
            "max_width": null,
            "min_height": null,
            "min_width": null,
            "object_fit": null,
            "object_position": null,
            "order": null,
            "overflow": null,
            "overflow_x": null,
            "overflow_y": null,
            "padding": null,
            "right": null,
            "top": null,
            "visibility": null,
            "width": null
          }
        },
        "121312f3c1af458fb442f293a7bf1c64": {
          "model_module": "@jupyter-widgets/output",
          "model_name": "OutputModel",
          "model_module_version": "1.0.0",
          "state": {
            "_dom_classes": [],
            "_model_module": "@jupyter-widgets/output",
            "_model_module_version": "1.0.0",
            "_model_name": "OutputModel",
            "_view_count": null,
            "_view_module": "@jupyter-widgets/output",
            "_view_module_version": "1.0.0",
            "_view_name": "OutputView",
            "layout": "IPY_MODEL_3142027676584057aea940e0882106ea",
            "msg_id": "",
            "outputs": [
              {
                "output_type": "display_data",
                "data": {
                  "text/plain": "\u001b[32m⠏\u001b[0m Working... \u001b[38;5;237m━━━━━━━━━━━━━━━━━━━━━━━━━━━━━━━━━━━━━━━━\u001b[0m \u001b[33m0:00:01\u001b[0m \u001b[35m  0%\u001b[0m \u001b[36mETA:\u001b[0m \u001b[36m-:--:--\u001b[0m  \n",
                  "text/html": "<pre style=\"white-space:pre;overflow-x:auto;line-height:normal;font-family:Menlo,'DejaVu Sans Mono',consolas,'Courier New',monospace\"><span style=\"color: #008000; text-decoration-color: #008000\">⠏</span> Working... <span style=\"color: #3a3a3a; text-decoration-color: #3a3a3a\">━━━━━━━━━━━━━━━━━━━━━━━━━━━━━━━━━━━━━━━━</span> <span style=\"color: #808000; text-decoration-color: #808000\">0:00:01</span> <span style=\"color: #800080; text-decoration-color: #800080\">  0%</span> <span style=\"color: #008080; text-decoration-color: #008080\">ETA:</span> <span style=\"color: #008080; text-decoration-color: #008080\">-:--:--</span>  \n</pre>\n"
                },
                "metadata": {}
              }
            ]
          }
        },
        "3142027676584057aea940e0882106ea": {
          "model_module": "@jupyter-widgets/base",
          "model_name": "LayoutModel",
          "model_module_version": "1.2.0",
          "state": {
            "_model_module": "@jupyter-widgets/base",
            "_model_module_version": "1.2.0",
            "_model_name": "LayoutModel",
            "_view_count": null,
            "_view_module": "@jupyter-widgets/base",
            "_view_module_version": "1.2.0",
            "_view_name": "LayoutView",
            "align_content": null,
            "align_items": null,
            "align_self": null,
            "border": null,
            "bottom": null,
            "display": null,
            "flex": null,
            "flex_flow": null,
            "grid_area": null,
            "grid_auto_columns": null,
            "grid_auto_flow": null,
            "grid_auto_rows": null,
            "grid_column": null,
            "grid_gap": null,
            "grid_row": null,
            "grid_template_areas": null,
            "grid_template_columns": null,
            "grid_template_rows": null,
            "height": null,
            "justify_content": null,
            "justify_items": null,
            "left": null,
            "margin": null,
            "max_height": null,
            "max_width": null,
            "min_height": null,
            "min_width": null,
            "object_fit": null,
            "object_position": null,
            "order": null,
            "overflow": null,
            "overflow_x": null,
            "overflow_y": null,
            "padding": null,
            "right": null,
            "top": null,
            "visibility": null,
            "width": null
          }
        }
      }
    }
  },
  "cells": [
    {
      "cell_type": "markdown",
      "metadata": {
        "id": "view-in-github",
        "colab_type": "text"
      },
      "source": [
        "<a href=\"https://colab.research.google.com/github/KaizenGirl1111/hahah/blob/master/jina.ipynb\" target=\"_parent\"><img src=\"https://colab.research.google.com/assets/colab-badge.svg\" alt=\"Open In Colab\"/></a>"
      ]
    },
    {
      "cell_type": "code",
      "execution_count": null,
      "metadata": {
        "id": "EMJOpHCUZG4t"
      },
      "outputs": [],
      "source": [
        "import json"
      ]
    },
    {
      "cell_type": "code",
      "source": [
        "with open(\"data.json\",\"r\") as file:\n",
        "  documents=json.load(file)"
      ],
      "metadata": {
        "id": "nvlY0CeYX08T"
      },
      "execution_count": null,
      "outputs": []
    },
    {
      "cell_type": "code",
      "source": [
        "documents"
      ],
      "metadata": {
        "colab": {
          "base_uri": "https://localhost:8080/"
        },
        "id": "SPFQTEBlacq3",
        "outputId": "ede4699a-5a7c-4796-eee4-97129bf033d1"
      },
      "execution_count": null,
      "outputs": [
        {
          "output_type": "execute_result",
          "data": {
            "text/plain": [
              "[{'category': 'women',\n",
              "  'description': 'YSR Pelli Kanuka Registration gives rovide financial assistance to the brides of different castes on the occasion of their marriage',\n",
              "  'id': '0',\n",
              "  'paths': '[ysr pelli kanuka.jpg]',\n",
              "  'registration link': 'http://ysrpk.ap.gov.in',\n",
              "  'state': 'Andra Pradesh'},\n",
              " {'category': 'women',\n",
              "  'description': 'Under AP YSR Kapu Nestam Scheme, each women b/w age of 45 to 60 years and belonging to Kapu, Balija, Telaga, Ontari communities will get assistance. Andhra Pradesh govt. will provide financial aid of Rs. 75,000 in next 5 years (15,000 per annum) to each women beneficiary to improve their life .',\n",
              "  'id': '1',\n",
              "  'paths': '[AP-YSR-Kapu-Nestham-scheme-300x231.jpg]',\n",
              "  'registration link': 'http://navasakam.ap.gov.in/downloads/fee_reimbursement.pdf',\n",
              "  'state': 'Andra Pradesh'},\n",
              " {'category': 'poor',\n",
              "  'description': 'AP YSR Aarogyasri Scheme to provide universal health coverage to all the lower and middle class families',\n",
              "  'id': '2',\n",
              "  'paths': '[ysr-schema.jpg]',\n",
              "  'registration link': 'http://navasakam.ap.gov.in/downloads/new_application_for_health_card.pdf',\n",
              "  'state': 'Andra Pradesh'}]"
            ]
          },
          "metadata": {},
          "execution_count": 28
        }
      ]
    },
    {
      "cell_type": "code",
      "source": [
        "pip install cherche"
      ],
      "metadata": {
        "colab": {
          "base_uri": "https://localhost:8080/"
        },
        "id": "_eubXIVqayla",
        "outputId": "c0ed0f20-d4a3-42ad-eb68-847a253ca60c"
      },
      "execution_count": null,
      "outputs": [
        {
          "output_type": "stream",
          "name": "stdout",
          "text": [
            "Requirement already satisfied: cherche in /usr/local/lib/python3.7/dist-packages (0.0.9)\n",
            "Requirement already satisfied: sentence-transformers>=2.1.0 in /usr/local/lib/python3.7/dist-packages (from cherche) (2.2.0)\n",
            "Requirement already satisfied: elasticsearch>=7.10.0 in /usr/local/lib/python3.7/dist-packages (from cherche) (8.2.0)\n",
            "Requirement already satisfied: tqdm>=4.62.3 in /usr/local/lib/python3.7/dist-packages (from cherche) (4.64.0)\n",
            "Requirement already satisfied: flashtext>=2.7 in /usr/local/lib/python3.7/dist-packages (from cherche) (2.7)\n",
            "Requirement already satisfied: scikit-learn>=1.0 in /usr/local/lib/python3.7/dist-packages (from cherche) (1.0.2)\n",
            "Requirement already satisfied: lunr>=0.6.1 in /usr/local/lib/python3.7/dist-packages (from cherche) (0.6.2)\n",
            "Requirement already satisfied: rank-bm25==0.2.1 in /usr/local/lib/python3.7/dist-packages (from cherche) (0.2.1)\n",
            "Requirement already satisfied: faiss-cpu>=1.7.1.post3 in /usr/local/lib/python3.7/dist-packages (from cherche) (1.7.2)\n",
            "Requirement already satisfied: river>=0.8.0 in /usr/local/lib/python3.7/dist-packages (from cherche) (0.10.1)\n",
            "Requirement already satisfied: transformers>=4.12.0 in /usr/local/lib/python3.7/dist-packages (from cherche) (4.18.0)\n",
            "Requirement already satisfied: rapidfuzz>=1.9.1 in /usr/local/lib/python3.7/dist-packages (from cherche) (2.0.11)\n",
            "Requirement already satisfied: scipy>=1.7.3 in /usr/local/lib/python3.7/dist-packages (from cherche) (1.7.3)\n",
            "Requirement already satisfied: numpy>=1.19.0 in /usr/local/lib/python3.7/dist-packages (from cherche) (1.21.6)\n",
            "Requirement already satisfied: elastic-transport<9,>=8 in /usr/local/lib/python3.7/dist-packages (from elasticsearch>=7.10.0->cherche) (8.1.2)\n",
            "Requirement already satisfied: urllib3<2,>=1.26.2 in /usr/local/lib/python3.7/dist-packages (from elastic-transport<9,>=8->elasticsearch>=7.10.0->cherche) (1.26.9)\n",
            "Requirement already satisfied: certifi in /usr/local/lib/python3.7/dist-packages (from elastic-transport<9,>=8->elasticsearch>=7.10.0->cherche) (2021.10.8)\n",
            "Requirement already satisfied: jarowinkler<1.1.0,>=1.0.2 in /usr/local/lib/python3.7/dist-packages (from rapidfuzz>=1.9.1->cherche) (1.0.2)\n",
            "Requirement already satisfied: pandas>=1.0.1 in /usr/local/lib/python3.7/dist-packages (from river>=0.8.0->cherche) (1.3.5)\n",
            "Requirement already satisfied: pytz>=2017.3 in /usr/local/lib/python3.7/dist-packages (from pandas>=1.0.1->river>=0.8.0->cherche) (2022.1)\n",
            "Requirement already satisfied: python-dateutil>=2.7.3 in /usr/local/lib/python3.7/dist-packages (from pandas>=1.0.1->river>=0.8.0->cherche) (2.8.2)\n",
            "Requirement already satisfied: six>=1.5 in /usr/local/lib/python3.7/dist-packages (from python-dateutil>=2.7.3->pandas>=1.0.1->river>=0.8.0->cherche) (1.15.0)\n",
            "Requirement already satisfied: joblib>=0.11 in /usr/local/lib/python3.7/dist-packages (from scikit-learn>=1.0->cherche) (1.1.0)\n",
            "Requirement already satisfied: threadpoolctl>=2.0.0 in /usr/local/lib/python3.7/dist-packages (from scikit-learn>=1.0->cherche) (3.1.0)\n",
            "Requirement already satisfied: nltk in /usr/local/lib/python3.7/dist-packages (from sentence-transformers>=2.1.0->cherche) (3.2.5)\n",
            "Requirement already satisfied: huggingface-hub in /usr/local/lib/python3.7/dist-packages (from sentence-transformers>=2.1.0->cherche) (0.5.1)\n",
            "Requirement already satisfied: sentencepiece in /usr/local/lib/python3.7/dist-packages (from sentence-transformers>=2.1.0->cherche) (0.1.96)\n",
            "Requirement already satisfied: torch>=1.6.0 in /usr/local/lib/python3.7/dist-packages (from sentence-transformers>=2.1.0->cherche) (1.11.0+cu113)\n",
            "Requirement already satisfied: torchvision in /usr/local/lib/python3.7/dist-packages (from sentence-transformers>=2.1.0->cherche) (0.12.0+cu113)\n",
            "Requirement already satisfied: typing-extensions in /usr/local/lib/python3.7/dist-packages (from torch>=1.6.0->sentence-transformers>=2.1.0->cherche) (4.2.0)\n",
            "Requirement already satisfied: sacremoses in /usr/local/lib/python3.7/dist-packages (from transformers>=4.12.0->cherche) (0.0.53)\n",
            "Requirement already satisfied: filelock in /usr/local/lib/python3.7/dist-packages (from transformers>=4.12.0->cherche) (3.6.0)\n",
            "Requirement already satisfied: regex!=2019.12.17 in /usr/local/lib/python3.7/dist-packages (from transformers>=4.12.0->cherche) (2019.12.20)\n",
            "Requirement already satisfied: importlib-metadata in /usr/local/lib/python3.7/dist-packages (from transformers>=4.12.0->cherche) (4.11.3)\n",
            "Requirement already satisfied: packaging>=20.0 in /usr/local/lib/python3.7/dist-packages (from transformers>=4.12.0->cherche) (21.3)\n",
            "Requirement already satisfied: pyyaml>=5.1 in /usr/local/lib/python3.7/dist-packages (from transformers>=4.12.0->cherche) (6.0)\n",
            "Requirement already satisfied: requests in /usr/local/lib/python3.7/dist-packages (from transformers>=4.12.0->cherche) (2.27.1)\n",
            "Requirement already satisfied: tokenizers!=0.11.3,<0.13,>=0.11.1 in /usr/local/lib/python3.7/dist-packages (from transformers>=4.12.0->cherche) (0.12.1)\n",
            "Requirement already satisfied: pyparsing!=3.0.5,>=2.0.2 in /usr/local/lib/python3.7/dist-packages (from packaging>=20.0->transformers>=4.12.0->cherche) (3.0.8)\n",
            "Requirement already satisfied: zipp>=0.5 in /usr/local/lib/python3.7/dist-packages (from importlib-metadata->transformers>=4.12.0->cherche) (3.8.0)\n",
            "Requirement already satisfied: charset-normalizer~=2.0.0 in /usr/local/lib/python3.7/dist-packages (from requests->transformers>=4.12.0->cherche) (2.0.12)\n",
            "Requirement already satisfied: idna<4,>=2.5 in /usr/local/lib/python3.7/dist-packages (from requests->transformers>=4.12.0->cherche) (2.10)\n",
            "Requirement already satisfied: click in /usr/local/lib/python3.7/dist-packages (from sacremoses->transformers>=4.12.0->cherche) (7.1.2)\n",
            "Requirement already satisfied: pillow!=8.3.*,>=5.3.0 in /usr/local/lib/python3.7/dist-packages (from torchvision->sentence-transformers>=2.1.0->cherche) (7.1.2)\n"
          ]
        }
      ]
    },
    {
      "cell_type": "code",
      "source": [
        "from cherche import retrieve"
      ],
      "metadata": {
        "id": "V85kr1NYa9wJ"
      },
      "execution_count": null,
      "outputs": []
    },
    {
      "cell_type": "code",
      "source": [
        "retrieve.TfIdf(key=\"id\", on=[\"category\",\"description\",\"state\"],documents=documents, k=3)"
      ],
      "metadata": {
        "colab": {
          "base_uri": "https://localhost:8080/"
        },
        "id": "WyIF2ykvbLA2",
        "outputId": "d69e90e4-9079-4592-c9a6-79f6a8cf201e"
      },
      "execution_count": null,
      "outputs": [
        {
          "output_type": "execute_result",
          "data": {
            "text/plain": [
              "TfIdf retriever\n",
              " \t key: id\n",
              " \t on: category, description, state\n",
              " \t documents: 3"
            ]
          },
          "metadata": {},
          "execution_count": 31
        }
      ]
    },
    {
      "cell_type": "code",
      "source": [
        "retriever = retrieve.TfIdf(key=\"id\",on=[\"category\",\"description\",\"state\"], documents=documents,k=3)"
      ],
      "metadata": {
        "id": "I-gEUwvPdF2o"
      },
      "execution_count": null,
      "outputs": []
    },
    {
      "cell_type": "code",
      "source": [
        "retriever(\"women\")"
      ],
      "metadata": {
        "colab": {
          "base_uri": "https://localhost:8080/"
        },
        "id": "CGELl7FXdY1E",
        "outputId": "efbebd00-5d93-41c9-8f66-52d375ee732f"
      },
      "execution_count": null,
      "outputs": [
        {
          "output_type": "execute_result",
          "data": {
            "text/plain": [
              "[{'id': '1', 'similarity': 0.286900784871829},\n",
              " {'id': '0', 'similarity': 0.17295354257190265}]"
            ]
          },
          "metadata": {},
          "execution_count": 33
        }
      ]
    },
    {
      "cell_type": "code",
      "source": [
        "pip install jina"
      ],
      "metadata": {
        "colab": {
          "base_uri": "https://localhost:8080/"
        },
        "id": "xa0SElE0YUtT",
        "outputId": "4c2e10f7-8f4e-40d3-8430-b1712a133159"
      },
      "execution_count": null,
      "outputs": [
        {
          "output_type": "stream",
          "name": "stdout",
          "text": [
            "Requirement already satisfied: jina in /usr/local/lib/python3.7/dist-packages (3.3.25)\n",
            "Requirement already satisfied: uvicorn[standard] in /usr/local/lib/python3.7/dist-packages (from jina) (0.17.6)\n",
            "Requirement already satisfied: aiofiles in /usr/local/lib/python3.7/dist-packages (from jina) (0.8.0)\n",
            "Requirement already satisfied: grpcio>=1.46.0 in /usr/local/lib/python3.7/dist-packages (from jina) (1.46.0)\n",
            "Requirement already satisfied: docker in /usr/local/lib/python3.7/dist-packages (from jina) (5.0.3)\n",
            "Requirement already satisfied: python-multipart in /usr/local/lib/python3.7/dist-packages (from jina) (0.0.5)\n",
            "Requirement already satisfied: aiostream in /usr/local/lib/python3.7/dist-packages (from jina) (0.4.4)\n",
            "Requirement already satisfied: uvloop in /usr/local/lib/python3.7/dist-packages (from jina) (0.16.0)\n",
            "Requirement already satisfied: requests in /usr/local/lib/python3.7/dist-packages (from jina) (2.27.1)\n",
            "Requirement already satisfied: fastapi in /usr/local/lib/python3.7/dist-packages (from jina) (0.77.1)\n",
            "Requirement already satisfied: lz4<3.1.2 in /usr/local/lib/python3.7/dist-packages (from jina) (3.1.1)\n",
            "Requirement already satisfied: websockets in /usr/local/lib/python3.7/dist-packages (from jina) (10.3)\n",
            "Requirement already satisfied: numpy in /usr/local/lib/python3.7/dist-packages (from jina) (1.21.6)\n",
            "Requirement already satisfied: pathspec in /usr/local/lib/python3.7/dist-packages (from jina) (0.9.0)\n",
            "Requirement already satisfied: rich in /usr/local/lib/python3.7/dist-packages (from jina) (12.4.1)\n",
            "Requirement already satisfied: cryptography in /usr/local/lib/python3.7/dist-packages (from jina) (37.0.2)\n",
            "Requirement already satisfied: pyyaml>=5.3.1 in /usr/local/lib/python3.7/dist-packages (from jina) (6.0)\n",
            "Requirement already satisfied: prometheus-client in /usr/local/lib/python3.7/dist-packages (from jina) (0.14.1)\n",
            "Requirement already satisfied: docarray>=0.9.10 in /usr/local/lib/python3.7/dist-packages (from jina) (0.13.10)\n",
            "Requirement already satisfied: grpcio-reflection>=1.46.0 in /usr/local/lib/python3.7/dist-packages (from jina) (1.46.0)\n",
            "Requirement already satisfied: filelock in /usr/local/lib/python3.7/dist-packages (from jina) (3.6.0)\n",
            "Requirement already satisfied: packaging>=20.0 in /usr/local/lib/python3.7/dist-packages (from jina) (21.3)\n",
            "Requirement already satisfied: pydantic in /usr/local/lib/python3.7/dist-packages (from jina) (1.9.0)\n",
            "Requirement already satisfied: aiohttp in /usr/local/lib/python3.7/dist-packages (from jina) (3.8.1)\n",
            "Requirement already satisfied: protobuf>=3.19.1 in /usr/local/lib/python3.7/dist-packages (from jina) (3.20.1)\n",
            "Requirement already satisfied: six>=1.5.2 in /usr/local/lib/python3.7/dist-packages (from grpcio>=1.46.0->jina) (1.15.0)\n",
            "Requirement already satisfied: pyparsing!=3.0.5,>=2.0.2 in /usr/local/lib/python3.7/dist-packages (from packaging>=20.0->jina) (3.0.8)\n",
            "Requirement already satisfied: commonmark<0.10.0,>=0.9.0 in /usr/local/lib/python3.7/dist-packages (from rich->jina) (0.9.1)\n",
            "Requirement already satisfied: typing-extensions<5.0,>=4.0.0 in /usr/local/lib/python3.7/dist-packages (from rich->jina) (4.2.0)\n",
            "Requirement already satisfied: pygments<3.0.0,>=2.6.0 in /usr/local/lib/python3.7/dist-packages (from rich->jina) (2.6.1)\n",
            "Requirement already satisfied: aiosignal>=1.1.2 in /usr/local/lib/python3.7/dist-packages (from aiohttp->jina) (1.2.0)\n",
            "Requirement already satisfied: async-timeout<5.0,>=4.0.0a3 in /usr/local/lib/python3.7/dist-packages (from aiohttp->jina) (4.0.2)\n",
            "Requirement already satisfied: multidict<7.0,>=4.5 in /usr/local/lib/python3.7/dist-packages (from aiohttp->jina) (6.0.2)\n",
            "Requirement already satisfied: frozenlist>=1.1.1 in /usr/local/lib/python3.7/dist-packages (from aiohttp->jina) (1.3.0)\n",
            "Requirement already satisfied: charset-normalizer<3.0,>=2.0 in /usr/local/lib/python3.7/dist-packages (from aiohttp->jina) (2.0.12)\n",
            "Requirement already satisfied: yarl<2.0,>=1.0 in /usr/local/lib/python3.7/dist-packages (from aiohttp->jina) (1.7.2)\n",
            "Requirement already satisfied: asynctest==0.13.0 in /usr/local/lib/python3.7/dist-packages (from aiohttp->jina) (0.13.0)\n",
            "Requirement already satisfied: attrs>=17.3.0 in /usr/local/lib/python3.7/dist-packages (from aiohttp->jina) (21.4.0)\n",
            "Requirement already satisfied: idna>=2.0 in /usr/local/lib/python3.7/dist-packages (from yarl<2.0,>=1.0->aiohttp->jina) (2.10)\n",
            "Requirement already satisfied: cffi>=1.12 in /usr/local/lib/python3.7/dist-packages (from cryptography->jina) (1.15.0)\n",
            "Requirement already satisfied: pycparser in /usr/local/lib/python3.7/dist-packages (from cffi>=1.12->cryptography->jina) (2.21)\n",
            "Requirement already satisfied: websocket-client>=0.32.0 in /usr/local/lib/python3.7/dist-packages (from docker->jina) (1.3.2)\n",
            "Requirement already satisfied: urllib3<1.27,>=1.21.1 in /usr/local/lib/python3.7/dist-packages (from requests->jina) (1.26.9)\n",
            "Requirement already satisfied: certifi>=2017.4.17 in /usr/local/lib/python3.7/dist-packages (from requests->jina) (2021.10.8)\n",
            "Requirement already satisfied: starlette==0.19.1 in /usr/local/lib/python3.7/dist-packages (from fastapi->jina) (0.19.1)\n",
            "Requirement already satisfied: anyio<5,>=3.4.0 in /usr/local/lib/python3.7/dist-packages (from starlette==0.19.1->fastapi->jina) (3.5.0)\n",
            "Requirement already satisfied: sniffio>=1.1 in /usr/local/lib/python3.7/dist-packages (from anyio<5,>=3.4.0->starlette==0.19.1->fastapi->jina) (1.2.0)\n",
            "Requirement already satisfied: click>=7.0 in /usr/local/lib/python3.7/dist-packages (from uvicorn[standard]->jina) (7.1.2)\n",
            "Requirement already satisfied: asgiref>=3.4.0 in /usr/local/lib/python3.7/dist-packages (from uvicorn[standard]->jina) (3.5.1)\n",
            "Requirement already satisfied: h11>=0.8 in /usr/local/lib/python3.7/dist-packages (from uvicorn[standard]->jina) (0.13.0)\n",
            "Requirement already satisfied: watchgod>=0.6 in /usr/local/lib/python3.7/dist-packages (from uvicorn[standard]->jina) (0.8.2)\n",
            "Requirement already satisfied: httptools>=0.4.0 in /usr/local/lib/python3.7/dist-packages (from uvicorn[standard]->jina) (0.4.0)\n",
            "Requirement already satisfied: python-dotenv>=0.13 in /usr/local/lib/python3.7/dist-packages (from uvicorn[standard]->jina) (0.20.0)\n"
          ]
        }
      ]
    },
    {
      "cell_type": "code",
      "source": [
        "from docarray import Document, DocumentArray\n",
        "from jina import Executor, Flow, requests"
      ],
      "metadata": {
        "id": "qR-3cXdweOpg"
      },
      "execution_count": null,
      "outputs": []
    },
    {
      "cell_type": "code",
      "source": [
        "class PreprocImg(Executor):\n",
        "    @requests\n",
        "    async def foo(self, docs: DocumentArray, **kwargs):\n",
        "        for d in docs:\n",
        "            (\n",
        "                d.load_uri_to_image_tensor(200, 200)  # load\n",
        "                .set_image_tensor_normalization()  # normalize color\n",
        "                .set_image_tensor_channel_axis(\n",
        "                    -1, 0\n",
        "                )  # switch color axis for the PyTorch model later\n",
        "            )"
      ],
      "metadata": {
        "id": "S9lyNO2EefO9"
      },
      "execution_count": null,
      "outputs": []
    },
    {
      "cell_type": "code",
      "source": [
        "class EmbedImg(Executor):\n",
        "    def __init__(self, **kwargs):\n",
        "        super().__init__(**kwargs)\n",
        "        import torchvision\n",
        "        self.model = torchvision.models.resnet50(pretrained=True)        \n",
        "\n",
        "    @requests\n",
        "    async def foo(self, docs: DocumentArray, **kwargs):\n",
        "        docs.embed(self.model)"
      ],
      "metadata": {
        "id": "Rjd0Eoj9fmDK"
      },
      "execution_count": null,
      "outputs": []
    },
    {
      "cell_type": "code",
      "source": [
        "class MatchImg(Executor):\n",
        "    _da = DocumentArray()\n",
        "\n",
        "    @requests(on='/index')\n",
        "    async def index(self, docs: DocumentArray, **kwargs):\n",
        "        self._da.extend(docs)\n",
        "        docs.clear()  # clear content to save bandwidth\n",
        "\n",
        "    @requests(on='/search')\n",
        "    async def foo(self, docs: DocumentArray, **kwargs):\n",
        "        docs.match(self._da, limit=9)\n",
        "        del docs[...][:, ('embedding', 'tensor')]  # save bandwidth as it is not needed"
      ],
      "metadata": {
        "id": "qyPeqytpgZ4Z"
      },
      "execution_count": null,
      "outputs": []
    },
    {
      "cell_type": "code",
      "source": [
        "f = (\n",
        "    Flow(port=12345)\n",
        "    .add(uses=PreprocImg)\n",
        "    .add(uses=EmbedImg, replicas=3)\n",
        "    .add(uses=MatchImg)\n",
        ")\n",
        "f.protocol = \"http\""
      ],
      "metadata": {
        "id": "EJFwgL9ugrx1"
      },
      "execution_count": null,
      "outputs": []
    },
    {
      "cell_type": "code",
      "source": [
        "index_data = DocumentArray.from_files('left/*.jpg')"
      ],
      "metadata": {
        "id": "jNFZhL1ygw2g"
      },
      "execution_count": null,
      "outputs": []
    },
    {
      "cell_type": "code",
      "source": [
        "index_data = DocumentArray.from_files('sample/*.jpg')"
      ],
      "metadata": {
        "id": "PTf5hEPWje9s"
      },
      "execution_count": null,
      "outputs": []
    },
    {
      "cell_type": "code",
      "source": [
        "index_data = DocumentArray.from_files('/content/sample/*.jpg')"
      ],
      "metadata": {
        "id": "CEW-queQlfEw"
      },
      "execution_count": null,
      "outputs": []
    },
    {
      "cell_type": "code",
      "source": [
        "import requests"
      ],
      "metadata": {
        "id": "t4EzcvP537P1"
      },
      "execution_count": null,
      "outputs": []
    },
    {
      "cell_type": "code",
      "source": [
        "with f:\n",
        "    f.post(\n",
        "        '/index',\n",
        "        index_data,\n",
        "        show_progress=True,\n",
        "        request_size=8,\n",
        "    )\n",
        "    r = requests.post(\n",
        "\"http://0.0.0.0:12345/search\", headers={\"Content-type\": \"application/json\"},\n",
        "json={\"data\": [{\"uri\": \"/content/sample/ysr-schema.jpg\"}]},).json()"
      ],
      "metadata": {
        "colab": {
          "base_uri": "https://localhost:8080/",
          "height": 237,
          "referenced_widgets": [
            "07653011e43849b6b8c0cf67e560d3f1",
            "a29978e298004e0db589dd1fc480fb22",
            "121312f3c1af458fb442f293a7bf1c64",
            "3142027676584057aea940e0882106ea"
          ]
        },
        "id": "HyRRAOb_juW_",
        "outputId": "d21ac875-fbe8-4a50-9956-20ca3595183b"
      },
      "execution_count": null,
      "outputs": [
        {
          "output_type": "display_data",
          "data": {
            "text/plain": [
              "Output()"
            ],
            "application/vnd.jupyter.widget-view+json": {
              "version_major": 2,
              "version_minor": 0,
              "model_id": "07653011e43849b6b8c0cf67e560d3f1"
            }
          },
          "metadata": {}
        },
        {
          "output_type": "stream",
          "name": "stderr",
          "text": [
            "\u001b[1;33mRuntimeWarning: fields may not start with an underscore, ignoring \"_metadata\"\u001b[0m \u001b[1;30m(raised from /usr/local/lib/python3.7/dist-packages/jina/serve/runtimes/gateway/http/models.py:192)\u001b[0m\n"
          ]
        },
        {
          "output_type": "display_data",
          "data": {
            "text/plain": [
              ""
            ],
            "text/html": [
              "<pre style=\"white-space:pre;overflow-x:auto;line-height:normal;font-family:Menlo,'DejaVu Sans Mono',consolas,'Courier New',monospace\"></pre>\n"
            ]
          },
          "metadata": {}
        },
        {
          "output_type": "display_data",
          "data": {
            "text/plain": [
              "\n"
            ],
            "text/html": [
              "<pre style=\"white-space:pre;overflow-x:auto;line-height:normal;font-family:Menlo,'DejaVu Sans Mono',consolas,'Courier New',monospace\">\n",
              "</pre>\n"
            ]
          },
          "metadata": {}
        },
        {
          "output_type": "display_data",
          "data": {
            "text/plain": [
              "╭───────────── 🎉 \u001b[1mFlow is ready to serve!\u001b[0m ──────────────╮\n",
              "│  🔗         Protocol                          HTTP    │\n",
              "│  🏠     Local access                 \u001b]8;id=210827;HTTP://0.0.0.0:12345\u001b\\\u001b[1;92m0.0.0.0\u001b[0m\u001b]8;;\u001b\\\u001b]8;id=210827;HTTP://0.0.0.0:12345\u001b\\:\u001b]8;;\u001b\\\u001b]8;id=210827;HTTP://0.0.0.0:12345\u001b\\\u001b[1;36m12345\u001b[0m\u001b]8;;\u001b\\    │\n",
              "│  🔒  Private network              \u001b]8;id=993454;HTTP://172.28.0.2:12345\u001b\\\u001b[1;92m172.28.0.2\u001b[0m\u001b]8;;\u001b\\\u001b]8;id=993454;HTTP://172.28.0.2:12345\u001b\\:\u001b]8;;\u001b\\\u001b]8;id=993454;HTTP://172.28.0.2:12345\u001b\\\u001b[1;36m12345\u001b[0m\u001b]8;;\u001b\\    │\n",
              "│  🌍   Public address           \u001b]8;id=758478;HTTP://35.204.226.79:12345\u001b\\\u001b[1;92m35.204.226.79\u001b[0m\u001b]8;;\u001b\\\u001b]8;id=758478;HTTP://35.204.226.79:12345\u001b\\:\u001b]8;;\u001b\\\u001b]8;id=758478;HTTP://35.204.226.79:12345\u001b\\\u001b[1;36m12345\u001b[0m\u001b]8;;\u001b\\    │\n",
              "│  💬       Swagger UI   \u001b]8;id=183301;http://localhost:12345/docs\u001b\\\u001b[4;94mhttp://localhost:12345/docs\u001b[0m\u001b]8;;\u001b\\    │\n",
              "│  📚            Redoc  \u001b]8;id=778283;http://localhost:12345/redoc\u001b\\\u001b[4;94mhttp://localhost:12345/redoc\u001b[0m\u001b]8;;\u001b\\    │\n",
              "╰───────────────────────────────────────────────────────╯\n"
            ],
            "text/html": [
              "<pre style=\"white-space:pre;overflow-x:auto;line-height:normal;font-family:Menlo,'DejaVu Sans Mono',consolas,'Courier New',monospace\">╭───────────── 🎉 <span style=\"font-weight: bold\">Flow is ready to serve!</span> ──────────────╮\n",
              "│  🔗         Protocol                          HTTP    │\n",
              "│  🏠     Local access                 <a href=\"HTTP://0.0.0.0:12345\" target=\"_blank\"><span style=\"color: #00ff00; text-decoration-color: #00ff00; font-weight: bold\">0.0.0.0</span></a><a href=\"HTTP://0.0.0.0:12345\" target=\"_blank\">:</a><a href=\"HTTP://0.0.0.0:12345\" target=\"_blank\"><span style=\"color: #008080; text-decoration-color: #008080; font-weight: bold\">12345</span></a>    │\n",
              "│  🔒  Private network              <a href=\"HTTP://172.28.0.2:12345\" target=\"_blank\"><span style=\"color: #00ff00; text-decoration-color: #00ff00; font-weight: bold\">172.28.0.2</span></a><a href=\"HTTP://172.28.0.2:12345\" target=\"_blank\">:</a><a href=\"HTTP://172.28.0.2:12345\" target=\"_blank\"><span style=\"color: #008080; text-decoration-color: #008080; font-weight: bold\">12345</span></a>    │\n",
              "│  🌍   Public address           <a href=\"HTTP://35.204.226.79:12345\" target=\"_blank\"><span style=\"color: #00ff00; text-decoration-color: #00ff00; font-weight: bold\">35.204.226.79</span></a><a href=\"HTTP://35.204.226.79:12345\" target=\"_blank\">:</a><a href=\"HTTP://35.204.226.79:12345\" target=\"_blank\"><span style=\"color: #008080; text-decoration-color: #008080; font-weight: bold\">12345</span></a>    │\n",
              "│  💬       Swagger UI   <a href=\"http://localhost:12345/docs\" target=\"_blank\"><span style=\"color: #0000ff; text-decoration-color: #0000ff; text-decoration: underline\">http://localhost:12345/docs</span></a>    │\n",
              "│  📚            Redoc  <a href=\"http://localhost:12345/redoc\" target=\"_blank\"><span style=\"color: #0000ff; text-decoration-color: #0000ff; text-decoration: underline\">http://localhost:12345/redoc</span></a>    │\n",
              "╰───────────────────────────────────────────────────────╯\n",
              "</pre>\n"
            ]
          },
          "metadata": {}
        },
        {
          "output_type": "display_data",
          "data": {
            "text/plain": [
              "Output()"
            ],
            "application/vnd.jupyter.widget-view+json": {
              "version_major": 2,
              "version_minor": 0,
              "model_id": "121312f3c1af458fb442f293a7bf1c64"
            }
          },
          "metadata": {}
        },
        {
          "output_type": "stream",
          "name": "stderr",
          "text": [
            "\u001b[1;33mUserWarning: The given NumPy array is not writable, and PyTorch does not support non-writable tensors. This means writing to this tensor will result in undefined behavior. You may want to copy the array to protect its data or make it writable before converting it to a tensor. This type of warning will be suppressed for the rest of this program. (Triggered internally at  ../torch/csrc/utils/tensor_numpy.cpp:178.)\u001b[0m \u001b[1;30m(raised from /usr/local/lib/python3.7/dist-packages/docarray/proto/io/ndarray.py:149)\u001b[0m\n"
          ]
        },
        {
          "output_type": "display_data",
          "data": {
            "text/plain": [
              ""
            ],
            "text/html": [
              "<pre style=\"white-space:pre;overflow-x:auto;line-height:normal;font-family:Menlo,'DejaVu Sans Mono',consolas,'Courier New',monospace\"></pre>\n"
            ]
          },
          "metadata": {}
        },
        {
          "output_type": "display_data",
          "data": {
            "text/plain": [
              "\n"
            ],
            "text/html": [
              "<pre style=\"white-space:pre;overflow-x:auto;line-height:normal;font-family:Menlo,'DejaVu Sans Mono',consolas,'Courier New',monospace\">\n",
              "</pre>\n"
            ]
          },
          "metadata": {}
        }
      ]
    },
    {
      "cell_type": "markdown",
      "source": [
        ""
      ],
      "metadata": {
        "id": "Tg6I3Hzym5bd"
      }
    },
    {
      "cell_type": "markdown",
      "source": [
        ""
      ],
      "metadata": {
        "id": "KI6IxrNmm4qg"
      }
    },
    {
      "cell_type": "code",
      "source": [
        "import requests"
      ],
      "metadata": {
        "id": "VflofziKv0bJ"
      },
      "execution_count": null,
      "outputs": []
    },
    {
      "cell_type": "code",
      "source": [
        "r"
      ],
      "metadata": {
        "colab": {
          "base_uri": "https://localhost:8080/"
        },
        "id": "1MNsA0Va4iKm",
        "outputId": "b2480728-4cfb-4c90-d138-856797263a36"
      },
      "execution_count": null,
      "outputs": [
        {
          "output_type": "execute_result",
          "data": {
            "text/plain": [
              "{'data': [{'adjacency': None,\n",
              "   'blob': None,\n",
              "   'chunks': None,\n",
              "   'embedding': None,\n",
              "   'evaluations': None,\n",
              "   'granularity': None,\n",
              "   'id': 'f3fd4630ba0f3baee6915127ca239cd7',\n",
              "   'location': None,\n",
              "   'matches': [{'adjacency': 1,\n",
              "     'blob': None,\n",
              "     'chunks': None,\n",
              "     'embedding': None,\n",
              "     'evaluations': None,\n",
              "     'granularity': None,\n",
              "     'id': 'b6c9dcdd0afe03dad3d05bd6902203dd',\n",
              "     'location': None,\n",
              "     'matches': None,\n",
              "     'mime_type': 'image/jpeg',\n",
              "     'modality': None,\n",
              "     'offset': None,\n",
              "     'parent_id': None,\n",
              "     'scores': {'cosine': {'description': None,\n",
              "       'op_name': None,\n",
              "       'ref_id': None,\n",
              "       'value': -1.1920928955078125e-07}},\n",
              "     'tags': None,\n",
              "     'tensor': None,\n",
              "     'text': None,\n",
              "     'uri': '/content/sample/ysr-schema.jpg',\n",
              "     'weight': None},\n",
              "    {'adjacency': 1,\n",
              "     'blob': None,\n",
              "     'chunks': None,\n",
              "     'embedding': None,\n",
              "     'evaluations': None,\n",
              "     'granularity': None,\n",
              "     'id': '6685acccf3712513364700d10db9a609',\n",
              "     'location': None,\n",
              "     'matches': None,\n",
              "     'mime_type': 'image/jpeg',\n",
              "     'modality': None,\n",
              "     'offset': None,\n",
              "     'parent_id': None,\n",
              "     'scores': {'cosine': {'description': None,\n",
              "       'op_name': None,\n",
              "       'ref_id': None,\n",
              "       'value': 0.3803085684776306}},\n",
              "     'tags': None,\n",
              "     'tensor': None,\n",
              "     'text': None,\n",
              "     'uri': '/content/sample/ysr pelli kanuka.jpg',\n",
              "     'weight': None},\n",
              "    {'adjacency': 1,\n",
              "     'blob': None,\n",
              "     'chunks': None,\n",
              "     'embedding': None,\n",
              "     'evaluations': None,\n",
              "     'granularity': None,\n",
              "     'id': 'd54e3cb11b95ea442245ce013638ee2f',\n",
              "     'location': None,\n",
              "     'matches': None,\n",
              "     'mime_type': 'image/jpeg',\n",
              "     'modality': None,\n",
              "     'offset': None,\n",
              "     'parent_id': None,\n",
              "     'scores': {'cosine': {'description': None,\n",
              "       'op_name': None,\n",
              "       'ref_id': None,\n",
              "       'value': 0.4351106286048889}},\n",
              "     'tags': None,\n",
              "     'tensor': None,\n",
              "     'text': None,\n",
              "     'uri': '/content/sample/AP-YSR-Kapu-Nestham-scheme-300x231.jpg',\n",
              "     'weight': None}],\n",
              "   'mime_type': 'image/jpeg',\n",
              "   'modality': None,\n",
              "   'offset': None,\n",
              "   'parent_id': None,\n",
              "   'scores': None,\n",
              "   'tags': None,\n",
              "   'tensor': None,\n",
              "   'text': None,\n",
              "   'uri': '/content/sample/ysr-schema.jpg',\n",
              "   'weight': None}],\n",
              " 'header': {'execEndpoint': '/search',\n",
              "  'requestId': 'efc01153fd8141c8af7711e871d0a967',\n",
              "  'status': None,\n",
              "  'targetExecutor': ''},\n",
              " 'parameters': None,\n",
              " 'routes': [{'endTime': '2022-05-10T07:30:03.582167+00:00',\n",
              "   'executor': 'gateway',\n",
              "   'startTime': '2022-05-10T07:30:03.288982+00:00',\n",
              "   'status': None},\n",
              "  {'endTime': '2022-05-10T07:30:03.295533+00:00',\n",
              "   'executor': 'executor0',\n",
              "   'startTime': '2022-05-10T07:30:03.289453+00:00',\n",
              "   'status': None},\n",
              "  {'endTime': '2022-05-10T07:30:03.573978+00:00',\n",
              "   'executor': 'executor1',\n",
              "   'startTime': '2022-05-10T07:30:03.295551+00:00',\n",
              "   'status': None},\n",
              "  {'endTime': '2022-05-10T07:30:03.581894+00:00',\n",
              "   'executor': 'executor2',\n",
              "   'startTime': '2022-05-10T07:30:03.574001+00:00',\n",
              "   'status': None}]}"
            ]
          },
          "metadata": {},
          "execution_count": 56
        }
      ]
    },
    {
      "cell_type": "code",
      "source": [
        "def enhance(documents:list, **kwargs):\n",
        "  data = [{\"uri\":f\"/content/sample/{doc['paths'][0]}\"} for doc in documents]\n",
        "  r=requests.post(\n",
        "\"http://0.0.0.0:12345/search\", headers={\"Content-type\": \"application/json\"},\n",
        "json={\"data\": [{\"uri\": \"/content/sample/ysr-schema.jpg\"}]},).json()\n",
        "  for document, match  in zip(documents,r[\"data\"]):\n",
        "     document[\"matches\"]=[x[\"uri\"] for x in match[\"matches\"]]\n",
        "  return documents"
      ],
      "metadata": {
        "id": "BsQ1yuTM4niW"
      },
      "execution_count": null,
      "outputs": []
    },
    {
      "cell_type": "code",
      "source": [
        "retriever(\"women\")"
      ],
      "metadata": {
        "colab": {
          "base_uri": "https://localhost:8080/"
        },
        "id": "zVEeeIHnElXp",
        "outputId": "eac379a7-233b-4f97-84b1-185d60479797"
      },
      "execution_count": null,
      "outputs": [
        {
          "output_type": "execute_result",
          "data": {
            "text/plain": [
              "[{'id': '1', 'similarity': 0.286900784871829},\n",
              " {'id': '0', 'similarity': 0.17295354257190265}]"
            ]
          },
          "metadata": {},
          "execution_count": 70
        }
      ]
    },
    {
      "cell_type": "code",
      "source": [
        "enhance(retriever(\"women\"))"
      ],
      "metadata": {
        "colab": {
          "base_uri": "https://localhost:8080/",
          "height": 260
        },
        "id": "mBpVggJfEVI5",
        "outputId": "9defde60-5031-4d31-f98a-9155df8567c8"
      },
      "execution_count": null,
      "outputs": [
        {
          "output_type": "display_data",
          "data": {
            "text/plain": [
              "\u001b[31m╭─\u001b[0m\u001b[31m─────────────────────────── \u001b[0m\u001b[1;31mTraceback \u001b[0m\u001b[1;2;31m(most recent call last)\u001b[0m\u001b[31m ───────────────────────────\u001b[0m\u001b[31m─╮\u001b[0m\n",
              "\u001b[31m│\u001b[0m \u001b[2;33m/usr/local/lib/python3.7/dist-packages/IPython/core/\u001b[0m\u001b[1;33minteractiveshell.py\u001b[0m:\u001b[94m2882\u001b[0m in \u001b[92mrun_code\u001b[0m  \u001b[31m│\u001b[0m\n",
              "\u001b[31m│\u001b[0m                                                                                           \u001b[31m│\u001b[0m\n",
              "\u001b[31m│\u001b[0m   \u001b[2m2879 \u001b[0m\u001b[2m│   │   │   \u001b[0m\u001b[94mtry\u001b[0m:                                                                   \u001b[31m│\u001b[0m\n",
              "\u001b[31m│\u001b[0m   \u001b[2m2880 \u001b[0m\u001b[2m│   │   │   │   \u001b[0m\u001b[96mself\u001b[0m.hooks.pre_run_code_hook()                                     \u001b[31m│\u001b[0m\n",
              "\u001b[31m│\u001b[0m   \u001b[2m2881 \u001b[0m\u001b[2m│   │   │   │   \u001b[0m\u001b[2m#rprint('Running code', repr(code_obj)) # dbg\u001b[0m                      \u001b[31m│\u001b[0m\n",
              "\u001b[31m│\u001b[0m \u001b[31m❱ \u001b[0m2882 \u001b[2m│   │   │   │   \u001b[0mexec(code_obj, \u001b[96mself\u001b[0m.user_global_ns, \u001b[96mself\u001b[0m.user_ns)                  \u001b[31m│\u001b[0m\n",
              "\u001b[31m│\u001b[0m   \u001b[2m2883 \u001b[0m\u001b[2m│   │   │   \u001b[0m\u001b[94mfinally\u001b[0m:                                                               \u001b[31m│\u001b[0m\n",
              "\u001b[31m│\u001b[0m   \u001b[2m2884 \u001b[0m\u001b[2m│   │   │   │   \u001b[0m\u001b[2m# Reset our crash handler in place\u001b[0m                                 \u001b[31m│\u001b[0m\n",
              "\u001b[31m│\u001b[0m   \u001b[2m2885 \u001b[0m\u001b[2m│   │   │   │   \u001b[0msys.excepthook = old_excepthook                                    \u001b[31m│\u001b[0m\n",
              "\u001b[31m│\u001b[0m \u001b[33m<ipython-input-71-e8f685aa3b3a>\u001b[0m:\u001b[94m1\u001b[0m in \u001b[92m<module>\u001b[0m                                             \u001b[31m│\u001b[0m\n",
              "\u001b[31m│\u001b[0m \u001b[33m<ipython-input-62-9a8e91321075>\u001b[0m:\u001b[94m2\u001b[0m in \u001b[92menhance\u001b[0m                                              \u001b[31m│\u001b[0m\n",
              "\u001b[31m│\u001b[0m \u001b[33m<ipython-input-62-9a8e91321075>\u001b[0m:\u001b[94m2\u001b[0m in \u001b[92m<listcomp>\u001b[0m                                           \u001b[31m│\u001b[0m\n",
              "\u001b[31m╰───────────────────────────────────────────────────────────────────────────────────────────╯\u001b[0m\n",
              "\u001b[1;91mKeyError: \u001b[0m\u001b[32m'paths'\u001b[0m\n"
            ],
            "text/html": [
              "<pre style=\"white-space:pre;overflow-x:auto;line-height:normal;font-family:Menlo,'DejaVu Sans Mono',consolas,'Courier New',monospace\"><span style=\"color: #800000; text-decoration-color: #800000\">╭──────────────────────────── </span><span style=\"color: #800000; text-decoration-color: #800000; font-weight: bold\">Traceback </span><span style=\"color: #bf7f7f; text-decoration-color: #bf7f7f; font-weight: bold\">(most recent call last)</span><span style=\"color: #800000; text-decoration-color: #800000\"> ────────────────────────────╮</span>\n",
              "<span style=\"color: #800000; text-decoration-color: #800000\">│</span> <span style=\"color: #bfbf7f; text-decoration-color: #bfbf7f\">/usr/local/lib/python3.7/dist-packages/IPython/core/</span><span style=\"color: #808000; text-decoration-color: #808000; font-weight: bold\">interactiveshell.py</span>:<span style=\"color: #0000ff; text-decoration-color: #0000ff\">2882</span> in <span style=\"color: #00ff00; text-decoration-color: #00ff00\">run_code</span>  <span style=\"color: #800000; text-decoration-color: #800000\">│</span>\n",
              "<span style=\"color: #800000; text-decoration-color: #800000\">│</span>                                                                                           <span style=\"color: #800000; text-decoration-color: #800000\">│</span>\n",
              "<span style=\"color: #800000; text-decoration-color: #800000\">│</span>   <span style=\"color: #7f7f7f; text-decoration-color: #7f7f7f\">2879 │   │   │   </span><span style=\"color: #0000ff; text-decoration-color: #0000ff\">try</span>:                                                                   <span style=\"color: #800000; text-decoration-color: #800000\">│</span>\n",
              "<span style=\"color: #800000; text-decoration-color: #800000\">│</span>   <span style=\"color: #7f7f7f; text-decoration-color: #7f7f7f\">2880 │   │   │   │   </span><span style=\"color: #00ffff; text-decoration-color: #00ffff\">self</span>.hooks.pre_run_code_hook()                                     <span style=\"color: #800000; text-decoration-color: #800000\">│</span>\n",
              "<span style=\"color: #800000; text-decoration-color: #800000\">│</span>   <span style=\"color: #7f7f7f; text-decoration-color: #7f7f7f\">2881 │   │   │   │   #rprint('Running code', repr(code_obj)) # dbg</span>                      <span style=\"color: #800000; text-decoration-color: #800000\">│</span>\n",
              "<span style=\"color: #800000; text-decoration-color: #800000\">│</span> <span style=\"color: #800000; text-decoration-color: #800000\">❱ </span>2882 <span style=\"color: #7f7f7f; text-decoration-color: #7f7f7f\">│   │   │   │   </span>exec(code_obj, <span style=\"color: #00ffff; text-decoration-color: #00ffff\">self</span>.user_global_ns, <span style=\"color: #00ffff; text-decoration-color: #00ffff\">self</span>.user_ns)                  <span style=\"color: #800000; text-decoration-color: #800000\">│</span>\n",
              "<span style=\"color: #800000; text-decoration-color: #800000\">│</span>   <span style=\"color: #7f7f7f; text-decoration-color: #7f7f7f\">2883 │   │   │   </span><span style=\"color: #0000ff; text-decoration-color: #0000ff\">finally</span>:                                                               <span style=\"color: #800000; text-decoration-color: #800000\">│</span>\n",
              "<span style=\"color: #800000; text-decoration-color: #800000\">│</span>   <span style=\"color: #7f7f7f; text-decoration-color: #7f7f7f\">2884 │   │   │   │   # Reset our crash handler in place</span>                                 <span style=\"color: #800000; text-decoration-color: #800000\">│</span>\n",
              "<span style=\"color: #800000; text-decoration-color: #800000\">│</span>   <span style=\"color: #7f7f7f; text-decoration-color: #7f7f7f\">2885 │   │   │   │   </span>sys.excepthook = old_excepthook                                    <span style=\"color: #800000; text-decoration-color: #800000\">│</span>\n",
              "<span style=\"color: #800000; text-decoration-color: #800000\">│</span> <span style=\"color: #808000; text-decoration-color: #808000\">&lt;ipython-input-71-e8f685aa3b3a&gt;</span>:<span style=\"color: #0000ff; text-decoration-color: #0000ff\">1</span> in <span style=\"color: #00ff00; text-decoration-color: #00ff00\">&lt;module&gt;</span>                                             <span style=\"color: #800000; text-decoration-color: #800000\">│</span>\n",
              "<span style=\"color: #800000; text-decoration-color: #800000\">│</span> <span style=\"color: #808000; text-decoration-color: #808000\">&lt;ipython-input-62-9a8e91321075&gt;</span>:<span style=\"color: #0000ff; text-decoration-color: #0000ff\">2</span> in <span style=\"color: #00ff00; text-decoration-color: #00ff00\">enhance</span>                                              <span style=\"color: #800000; text-decoration-color: #800000\">│</span>\n",
              "<span style=\"color: #800000; text-decoration-color: #800000\">│</span> <span style=\"color: #808000; text-decoration-color: #808000\">&lt;ipython-input-62-9a8e91321075&gt;</span>:<span style=\"color: #0000ff; text-decoration-color: #0000ff\">2</span> in <span style=\"color: #00ff00; text-decoration-color: #00ff00\">&lt;listcomp&gt;</span>                                           <span style=\"color: #800000; text-decoration-color: #800000\">│</span>\n",
              "<span style=\"color: #800000; text-decoration-color: #800000\">╰───────────────────────────────────────────────────────────────────────────────────────────╯</span>\n",
              "<span style=\"color: #ff0000; text-decoration-color: #ff0000; font-weight: bold\">KeyError: </span><span style=\"color: #008000; text-decoration-color: #008000\">'paths'</span>\n",
              "</pre>\n"
            ]
          },
          "metadata": {}
        }
      ]
    },
    {
      "cell_type": "code",
      "source": [
        "women"
      ],
      "metadata": {
        "colab": {
          "base_uri": "https://localhost:8080/",
          "height": 228
        },
        "id": "NlKO8vVoEee1",
        "outputId": "822f7745-84ca-43cd-8567-5d913c644e1b"
      },
      "execution_count": null,
      "outputs": [
        {
          "output_type": "display_data",
          "data": {
            "text/plain": [
              "\u001b[31m╭─\u001b[0m\u001b[31m─────────────────────────── \u001b[0m\u001b[1;31mTraceback \u001b[0m\u001b[1;2;31m(most recent call last)\u001b[0m\u001b[31m ───────────────────────────\u001b[0m\u001b[31m─╮\u001b[0m\n",
              "\u001b[31m│\u001b[0m \u001b[2;33m/usr/local/lib/python3.7/dist-packages/IPython/core/\u001b[0m\u001b[1;33minteractiveshell.py\u001b[0m:\u001b[94m2882\u001b[0m in \u001b[92mrun_code\u001b[0m  \u001b[31m│\u001b[0m\n",
              "\u001b[31m│\u001b[0m                                                                                           \u001b[31m│\u001b[0m\n",
              "\u001b[31m│\u001b[0m   \u001b[2m2879 \u001b[0m\u001b[2m│   │   │   \u001b[0m\u001b[94mtry\u001b[0m:                                                                   \u001b[31m│\u001b[0m\n",
              "\u001b[31m│\u001b[0m   \u001b[2m2880 \u001b[0m\u001b[2m│   │   │   │   \u001b[0m\u001b[96mself\u001b[0m.hooks.pre_run_code_hook()                                     \u001b[31m│\u001b[0m\n",
              "\u001b[31m│\u001b[0m   \u001b[2m2881 \u001b[0m\u001b[2m│   │   │   │   \u001b[0m\u001b[2m#rprint('Running code', repr(code_obj)) # dbg\u001b[0m                      \u001b[31m│\u001b[0m\n",
              "\u001b[31m│\u001b[0m \u001b[31m❱ \u001b[0m2882 \u001b[2m│   │   │   │   \u001b[0mexec(code_obj, \u001b[96mself\u001b[0m.user_global_ns, \u001b[96mself\u001b[0m.user_ns)                  \u001b[31m│\u001b[0m\n",
              "\u001b[31m│\u001b[0m   \u001b[2m2883 \u001b[0m\u001b[2m│   │   │   \u001b[0m\u001b[94mfinally\u001b[0m:                                                               \u001b[31m│\u001b[0m\n",
              "\u001b[31m│\u001b[0m   \u001b[2m2884 \u001b[0m\u001b[2m│   │   │   │   \u001b[0m\u001b[2m# Reset our crash handler in place\u001b[0m                                 \u001b[31m│\u001b[0m\n",
              "\u001b[31m│\u001b[0m   \u001b[2m2885 \u001b[0m\u001b[2m│   │   │   │   \u001b[0msys.excepthook = old_excepthook                                    \u001b[31m│\u001b[0m\n",
              "\u001b[31m│\u001b[0m \u001b[33m<ipython-input-69-342c5ee701ef>\u001b[0m:\u001b[94m1\u001b[0m in \u001b[92m<module>\u001b[0m                                             \u001b[31m│\u001b[0m\n",
              "\u001b[31m╰───────────────────────────────────────────────────────────────────────────────────────────╯\u001b[0m\n",
              "\u001b[1;91mNameError: \u001b[0mname \u001b[32m'women'\u001b[0m is not defined\n"
            ],
            "text/html": [
              "<pre style=\"white-space:pre;overflow-x:auto;line-height:normal;font-family:Menlo,'DejaVu Sans Mono',consolas,'Courier New',monospace\"><span style=\"color: #800000; text-decoration-color: #800000\">╭──────────────────────────── </span><span style=\"color: #800000; text-decoration-color: #800000; font-weight: bold\">Traceback </span><span style=\"color: #bf7f7f; text-decoration-color: #bf7f7f; font-weight: bold\">(most recent call last)</span><span style=\"color: #800000; text-decoration-color: #800000\"> ────────────────────────────╮</span>\n",
              "<span style=\"color: #800000; text-decoration-color: #800000\">│</span> <span style=\"color: #bfbf7f; text-decoration-color: #bfbf7f\">/usr/local/lib/python3.7/dist-packages/IPython/core/</span><span style=\"color: #808000; text-decoration-color: #808000; font-weight: bold\">interactiveshell.py</span>:<span style=\"color: #0000ff; text-decoration-color: #0000ff\">2882</span> in <span style=\"color: #00ff00; text-decoration-color: #00ff00\">run_code</span>  <span style=\"color: #800000; text-decoration-color: #800000\">│</span>\n",
              "<span style=\"color: #800000; text-decoration-color: #800000\">│</span>                                                                                           <span style=\"color: #800000; text-decoration-color: #800000\">│</span>\n",
              "<span style=\"color: #800000; text-decoration-color: #800000\">│</span>   <span style=\"color: #7f7f7f; text-decoration-color: #7f7f7f\">2879 │   │   │   </span><span style=\"color: #0000ff; text-decoration-color: #0000ff\">try</span>:                                                                   <span style=\"color: #800000; text-decoration-color: #800000\">│</span>\n",
              "<span style=\"color: #800000; text-decoration-color: #800000\">│</span>   <span style=\"color: #7f7f7f; text-decoration-color: #7f7f7f\">2880 │   │   │   │   </span><span style=\"color: #00ffff; text-decoration-color: #00ffff\">self</span>.hooks.pre_run_code_hook()                                     <span style=\"color: #800000; text-decoration-color: #800000\">│</span>\n",
              "<span style=\"color: #800000; text-decoration-color: #800000\">│</span>   <span style=\"color: #7f7f7f; text-decoration-color: #7f7f7f\">2881 │   │   │   │   #rprint('Running code', repr(code_obj)) # dbg</span>                      <span style=\"color: #800000; text-decoration-color: #800000\">│</span>\n",
              "<span style=\"color: #800000; text-decoration-color: #800000\">│</span> <span style=\"color: #800000; text-decoration-color: #800000\">❱ </span>2882 <span style=\"color: #7f7f7f; text-decoration-color: #7f7f7f\">│   │   │   │   </span>exec(code_obj, <span style=\"color: #00ffff; text-decoration-color: #00ffff\">self</span>.user_global_ns, <span style=\"color: #00ffff; text-decoration-color: #00ffff\">self</span>.user_ns)                  <span style=\"color: #800000; text-decoration-color: #800000\">│</span>\n",
              "<span style=\"color: #800000; text-decoration-color: #800000\">│</span>   <span style=\"color: #7f7f7f; text-decoration-color: #7f7f7f\">2883 │   │   │   </span><span style=\"color: #0000ff; text-decoration-color: #0000ff\">finally</span>:                                                               <span style=\"color: #800000; text-decoration-color: #800000\">│</span>\n",
              "<span style=\"color: #800000; text-decoration-color: #800000\">│</span>   <span style=\"color: #7f7f7f; text-decoration-color: #7f7f7f\">2884 │   │   │   │   # Reset our crash handler in place</span>                                 <span style=\"color: #800000; text-decoration-color: #800000\">│</span>\n",
              "<span style=\"color: #800000; text-decoration-color: #800000\">│</span>   <span style=\"color: #7f7f7f; text-decoration-color: #7f7f7f\">2885 │   │   │   │   </span>sys.excepthook = old_excepthook                                    <span style=\"color: #800000; text-decoration-color: #800000\">│</span>\n",
              "<span style=\"color: #800000; text-decoration-color: #800000\">│</span> <span style=\"color: #808000; text-decoration-color: #808000\">&lt;ipython-input-69-342c5ee701ef&gt;</span>:<span style=\"color: #0000ff; text-decoration-color: #0000ff\">1</span> in <span style=\"color: #00ff00; text-decoration-color: #00ff00\">&lt;module&gt;</span>                                             <span style=\"color: #800000; text-decoration-color: #800000\">│</span>\n",
              "<span style=\"color: #800000; text-decoration-color: #800000\">╰───────────────────────────────────────────────────────────────────────────────────────────╯</span>\n",
              "<span style=\"color: #ff0000; text-decoration-color: #ff0000; font-weight: bold\">NameError: </span>name <span style=\"color: #008000; text-decoration-color: #008000\">'women'</span> is not defined\n",
              "</pre>\n"
            ]
          },
          "metadata": {}
        }
      ]
    }
  ]
}